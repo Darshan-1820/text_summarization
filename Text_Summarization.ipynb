{
 "cells": [
  {
   "cell_type": "code",
   "execution_count": 1,
   "id": "a374cae5",
   "metadata": {},
   "outputs": [],
   "source": [
    "import spacy\n",
    "from spacy.lang.en.stop_words import STOP_WORDS\n",
    "from string import punctuation\n",
    "nlp = spacy.load('en_core_web_sm')"
   ]
  },
  {
   "cell_type": "code",
   "execution_count": 2,
   "id": "d9ef0c3c",
   "metadata": {},
   "outputs": [],
   "source": [
    "stopwords = list(STOP_WORDS) + [\"market\", \"companies\", \"earnings\", \"investor\", \"bullish\", \"momentum\", \"weeks\", \"experts\", \"investors\", \"opportunity\", \"risks\", \"finance\", \"sector\", \"mergers\", \"acquisitions\", \"industry\"]"
   ]
  },
  {
   "cell_type": "code",
   "execution_count": 3,
   "id": "f2c85a26",
   "metadata": {},
   "outputs": [],
   "source": [
    "text = '''The stock market experienced a significant surge today as major technology companies announced better-than-expected quarterly earnings. The positive news resulted in a surge of investor confidence, leading to a bullish trend in the market. Analysts predict that this upward momentum is likely to continue in the coming weeks. However, experts caution investors to remain vigilant and evaluate each investment opportunity carefully to mitigate risks. The finance sector also saw notable mergers and acquisitions activity, indicating a growing trend of consolidation within the industry.\n",
    "'''"
   ]
  },
  {
   "cell_type": "code",
   "execution_count": 4,
   "id": "ca4e207f",
   "metadata": {},
   "outputs": [],
   "source": [
    "doc= nlp(text)"
   ]
  },
  {
   "cell_type": "code",
   "execution_count": 5,
   "id": "3c8d8aa5",
   "metadata": {},
   "outputs": [],
   "source": [
    "tokens = [token.text for token in doc]\n",
    "#print(tokens)\n",
    "punctuation = punctuation + '\\n'\n",
    "#punctuation\n",
    "word_frequencies = {}\n",
    "for word in doc:\n",
    "    if word.text.lower() not in stopwords:\n",
    "        if word.text.lower() not in punctuation:\n",
    "            if word.text not in word_frequencies.keys():\n",
    "                word_frequencies[word.text] = 1\n",
    "            else:\n",
    "                word_frequencies[word.text] += 1\n",
    "                #print(word_frequencies)"
   ]
  },
  {
   "cell_type": "code",
   "execution_count": 6,
   "id": "47fb2c35",
   "metadata": {},
   "outputs": [],
   "source": [
    "# SENTENCE TOKENIZATION\n",
    "\n",
    "max_frequency = max(word_frequencies.values())\n",
    "max_frequency\n",
    "for word in word_frequencies.keys():\n",
    "    word_frequencies[word] = word_frequencies[word]/max_frequency\n",
    "    #print(word_frequencies)\n",
    "sentence_tokens = [sent for sent in doc.sents]\n",
    "#print(sentence_tokens)"
   ]
  },
  {
   "cell_type": "code",
   "execution_count": 7,
   "id": "a7021e67",
   "metadata": {},
   "outputs": [],
   "source": [
    "# WORD FREQUENCY TABLE\n",
    "\n",
    "sentence_scores = {}\n",
    "for sent in sentence_tokens:\n",
    "    for word in sent:\n",
    "        if word.text.lower() in word_frequencies.keys():\n",
    "            if sent not in sentence_scores.keys():\n",
    "                sentence_scores[sent] = word_frequencies[word.text.lower()]\n",
    "            else:\n",
    "                sentence_scores[sent] += word_frequencies[word.text.lower()]\n",
    "                #print(sentence_scores)"
   ]
  },
  {
   "cell_type": "code",
   "execution_count": 8,
   "id": "a19cc519",
   "metadata": {},
   "outputs": [],
   "source": [
    "#SUMMARIZATION\n",
    "\n",
    "from heapq import nlargest\n",
    "select_length = int(len(sentence_tokens)*0.3)\n",
    "select_length\n",
    "summary = nlargest(select_length, sentence_scores, key = sentence_scores.get)\n",
    "summary\n",
    "final_summary = [word.text for word in summary]\n",
    "summary = ''.join(final_summary)\n"
   ]
  },
  {
   "cell_type": "code",
   "execution_count": 9,
   "id": "18ae1e70",
   "metadata": {},
   "outputs": [
    {
     "name": "stdout",
     "output_type": "stream",
     "text": [
      "The stock market experienced a significant surge today as major technology companies announced better-than-expected quarterly earnings. The positive news resulted in a surge of investor confidence, leading to a bullish trend in the market. Analysts predict that this upward momentum is likely to continue in the coming weeks. However, experts caution investors to remain vigilant and evaluate each investment opportunity carefully to mitigate risks. The finance sector also saw notable mergers and acquisitions activity, indicating a growing trend of consolidation within the industry.\n",
      "\n"
     ]
    }
   ],
   "source": [
    "print(text)\n"
   ]
  },
  {
   "cell_type": "code",
   "execution_count": 10,
   "id": "f3e18c07",
   "metadata": {},
   "outputs": [
    {
     "name": "stdout",
     "output_type": "stream",
     "text": [
      "The stock market experienced a significant surge today as major technology companies announced better-than-expected quarterly earnings.\n"
     ]
    }
   ],
   "source": [
    "print(summary)"
   ]
  },
  {
   "cell_type": "code",
   "execution_count": null,
   "id": "e468d1b5",
   "metadata": {},
   "outputs": [],
   "source": []
  }
 ],
 "metadata": {
  "kernelspec": {
   "display_name": "Python 3 (ipykernel)",
   "language": "python",
   "name": "python3"
  },
  "language_info": {
   "codemirror_mode": {
    "name": "ipython",
    "version": 3
   },
   "file_extension": ".py",
   "mimetype": "text/x-python",
   "name": "python",
   "nbconvert_exporter": "python",
   "pygments_lexer": "ipython3",
   "version": "3.10.9"
  }
 },
 "nbformat": 4,
 "nbformat_minor": 5
}
